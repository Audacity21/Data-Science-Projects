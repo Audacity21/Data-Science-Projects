{
 "cells": [
  {
   "cell_type": "markdown",
   "id": "2ed5055d",
   "metadata": {},
   "source": [
    "# Exploratory data analysis of Online Retail dataset\n",
    "\n",
    "We have one single xls file in which we have the following columns: invoiceno, stockcode, description, quantity, invoicedate, unitprice, customerid and country. We analyse the data and answer few questions related to the company. The questions are as follows: \n",
    "\n",
    "1. Based on your understanding of the data, what kind of business is this company in?\n",
    "2. Analyze the sales performance of this company, and provide your insights regarding the same\n",
    "3. Based on your analysis of the data, what are potential areas of improvement for the business?\n",
    "4. What are additional business problems that can be analyzed using this data. Support with explanation."
   ]
  },
  {
   "cell_type": "markdown",
   "id": "c0307db9",
   "metadata": {},
   "source": [
    "## 1. Importing the libraries"
   ]
  },
  {
   "cell_type": "code",
   "execution_count": 1,
   "id": "badff52b",
   "metadata": {},
   "outputs": [],
   "source": [
    "import numpy as np\n",
    "import pandas as pd\n",
    "import seaborn as sns\n",
    "import matplotlib.pyplot as plt\n",
    "import os\n",
    "\n",
    "%matplotlib inline"
   ]
  },
  {
   "cell_type": "markdown",
   "id": "d5483b57",
   "metadata": {},
   "source": [
    "## Loading the Dataset"
   ]
  },
  {
   "cell_type": "code",
   "execution_count": 2,
   "id": "143a5828",
   "metadata": {},
   "outputs": [
    {
     "data": {
      "text/html": [
       "<div>\n",
       "<style scoped>\n",
       "    .dataframe tbody tr th:only-of-type {\n",
       "        vertical-align: middle;\n",
       "    }\n",
       "\n",
       "    .dataframe tbody tr th {\n",
       "        vertical-align: top;\n",
       "    }\n",
       "\n",
       "    .dataframe thead th {\n",
       "        text-align: right;\n",
       "    }\n",
       "</style>\n",
       "<table border=\"1\" class=\"dataframe\">\n",
       "  <thead>\n",
       "    <tr style=\"text-align: right;\">\n",
       "      <th></th>\n",
       "      <th>InvoiceNo</th>\n",
       "      <th>StockCode</th>\n",
       "      <th>Description</th>\n",
       "      <th>Quantity</th>\n",
       "      <th>InvoiceDate</th>\n",
       "      <th>UnitPrice</th>\n",
       "      <th>CustomerID</th>\n",
       "      <th>Country</th>\n",
       "    </tr>\n",
       "  </thead>\n",
       "  <tbody>\n",
       "    <tr>\n",
       "      <th>0</th>\n",
       "      <td>536365</td>\n",
       "      <td>85123A</td>\n",
       "      <td>WHITE HANGING HEART T-LIGHT HOLDER</td>\n",
       "      <td>6</td>\n",
       "      <td>01-12-2010 08:26</td>\n",
       "      <td>2.55</td>\n",
       "      <td>17850.0</td>\n",
       "      <td>United Kingdom</td>\n",
       "    </tr>\n",
       "    <tr>\n",
       "      <th>1</th>\n",
       "      <td>536365</td>\n",
       "      <td>71053</td>\n",
       "      <td>WHITE METAL LANTERN</td>\n",
       "      <td>6</td>\n",
       "      <td>01-12-2010 08:26</td>\n",
       "      <td>3.39</td>\n",
       "      <td>17850.0</td>\n",
       "      <td>United Kingdom</td>\n",
       "    </tr>\n",
       "    <tr>\n",
       "      <th>2</th>\n",
       "      <td>536365</td>\n",
       "      <td>84406B</td>\n",
       "      <td>CREAM CUPID HEARTS COAT HANGER</td>\n",
       "      <td>8</td>\n",
       "      <td>01-12-2010 08:26</td>\n",
       "      <td>2.75</td>\n",
       "      <td>17850.0</td>\n",
       "      <td>United Kingdom</td>\n",
       "    </tr>\n",
       "    <tr>\n",
       "      <th>3</th>\n",
       "      <td>536365</td>\n",
       "      <td>84029G</td>\n",
       "      <td>KNITTED UNION FLAG HOT WATER BOTTLE</td>\n",
       "      <td>6</td>\n",
       "      <td>01-12-2010 08:26</td>\n",
       "      <td>3.39</td>\n",
       "      <td>17850.0</td>\n",
       "      <td>United Kingdom</td>\n",
       "    </tr>\n",
       "    <tr>\n",
       "      <th>4</th>\n",
       "      <td>536365</td>\n",
       "      <td>84029E</td>\n",
       "      <td>RED WOOLLY HOTTIE WHITE HEART.</td>\n",
       "      <td>6</td>\n",
       "      <td>01-12-2010 08:26</td>\n",
       "      <td>3.39</td>\n",
       "      <td>17850.0</td>\n",
       "      <td>United Kingdom</td>\n",
       "    </tr>\n",
       "  </tbody>\n",
       "</table>\n",
       "</div>"
      ],
      "text/plain": [
       "  InvoiceNo StockCode                          Description  Quantity  \\\n",
       "0    536365    85123A   WHITE HANGING HEART T-LIGHT HOLDER         6   \n",
       "1    536365     71053                  WHITE METAL LANTERN         6   \n",
       "2    536365    84406B       CREAM CUPID HEARTS COAT HANGER         8   \n",
       "3    536365    84029G  KNITTED UNION FLAG HOT WATER BOTTLE         6   \n",
       "4    536365    84029E       RED WOOLLY HOTTIE WHITE HEART.         6   \n",
       "\n",
       "        InvoiceDate  UnitPrice  CustomerID         Country  \n",
       "0  01-12-2010 08:26       2.55     17850.0  United Kingdom  \n",
       "1  01-12-2010 08:26       3.39     17850.0  United Kingdom  \n",
       "2  01-12-2010 08:26       2.75     17850.0  United Kingdom  \n",
       "3  01-12-2010 08:26       3.39     17850.0  United Kingdom  \n",
       "4  01-12-2010 08:26       3.39     17850.0  United Kingdom  "
      ]
     },
     "execution_count": 2,
     "metadata": {},
     "output_type": "execute_result"
    }
   ],
   "source": [
    "df = pd.read_csv(\"Online Retail.csv\")\n",
    "df.head()"
   ]
  },
  {
   "cell_type": "code",
   "execution_count": 3,
   "id": "6bcb12b4",
   "metadata": {},
   "outputs": [
    {
     "data": {
      "text/html": [
       "<div>\n",
       "<style scoped>\n",
       "    .dataframe tbody tr th:only-of-type {\n",
       "        vertical-align: middle;\n",
       "    }\n",
       "\n",
       "    .dataframe tbody tr th {\n",
       "        vertical-align: top;\n",
       "    }\n",
       "\n",
       "    .dataframe thead th {\n",
       "        text-align: right;\n",
       "    }\n",
       "</style>\n",
       "<table border=\"1\" class=\"dataframe\">\n",
       "  <thead>\n",
       "    <tr style=\"text-align: right;\">\n",
       "      <th></th>\n",
       "      <th>CustomerID</th>\n",
       "      <th>InvoiceNo</th>\n",
       "      <th>StockCode</th>\n",
       "      <th>Quantity</th>\n",
       "      <th>UnitPrice</th>\n",
       "      <th>Description</th>\n",
       "      <th>InvoiceDate</th>\n",
       "      <th>Country</th>\n",
       "    </tr>\n",
       "  </thead>\n",
       "  <tbody>\n",
       "    <tr>\n",
       "      <th>0</th>\n",
       "      <td>17850.0</td>\n",
       "      <td>536365</td>\n",
       "      <td>85123A</td>\n",
       "      <td>6</td>\n",
       "      <td>2.55</td>\n",
       "      <td>WHITE HANGING HEART T-LIGHT HOLDER</td>\n",
       "      <td>01-12-2010 08:26</td>\n",
       "      <td>United Kingdom</td>\n",
       "    </tr>\n",
       "    <tr>\n",
       "      <th>1</th>\n",
       "      <td>17850.0</td>\n",
       "      <td>536365</td>\n",
       "      <td>71053</td>\n",
       "      <td>6</td>\n",
       "      <td>3.39</td>\n",
       "      <td>WHITE METAL LANTERN</td>\n",
       "      <td>01-12-2010 08:26</td>\n",
       "      <td>United Kingdom</td>\n",
       "    </tr>\n",
       "    <tr>\n",
       "      <th>2</th>\n",
       "      <td>17850.0</td>\n",
       "      <td>536365</td>\n",
       "      <td>84406B</td>\n",
       "      <td>8</td>\n",
       "      <td>2.75</td>\n",
       "      <td>CREAM CUPID HEARTS COAT HANGER</td>\n",
       "      <td>01-12-2010 08:26</td>\n",
       "      <td>United Kingdom</td>\n",
       "    </tr>\n",
       "    <tr>\n",
       "      <th>3</th>\n",
       "      <td>17850.0</td>\n",
       "      <td>536365</td>\n",
       "      <td>84029G</td>\n",
       "      <td>6</td>\n",
       "      <td>3.39</td>\n",
       "      <td>KNITTED UNION FLAG HOT WATER BOTTLE</td>\n",
       "      <td>01-12-2010 08:26</td>\n",
       "      <td>United Kingdom</td>\n",
       "    </tr>\n",
       "    <tr>\n",
       "      <th>4</th>\n",
       "      <td>17850.0</td>\n",
       "      <td>536365</td>\n",
       "      <td>84029E</td>\n",
       "      <td>6</td>\n",
       "      <td>3.39</td>\n",
       "      <td>RED WOOLLY HOTTIE WHITE HEART.</td>\n",
       "      <td>01-12-2010 08:26</td>\n",
       "      <td>United Kingdom</td>\n",
       "    </tr>\n",
       "  </tbody>\n",
       "</table>\n",
       "</div>"
      ],
      "text/plain": [
       "   CustomerID InvoiceNo StockCode  Quantity  UnitPrice  \\\n",
       "0     17850.0    536365    85123A         6       2.55   \n",
       "1     17850.0    536365     71053         6       3.39   \n",
       "2     17850.0    536365    84406B         8       2.75   \n",
       "3     17850.0    536365    84029G         6       3.39   \n",
       "4     17850.0    536365    84029E         6       3.39   \n",
       "\n",
       "                           Description       InvoiceDate         Country  \n",
       "0   WHITE HANGING HEART T-LIGHT HOLDER  01-12-2010 08:26  United Kingdom  \n",
       "1                  WHITE METAL LANTERN  01-12-2010 08:26  United Kingdom  \n",
       "2       CREAM CUPID HEARTS COAT HANGER  01-12-2010 08:26  United Kingdom  \n",
       "3  KNITTED UNION FLAG HOT WATER BOTTLE  01-12-2010 08:26  United Kingdom  \n",
       "4       RED WOOLLY HOTTIE WHITE HEART.  01-12-2010 08:26  United Kingdom  "
      ]
     },
     "execution_count": 3,
     "metadata": {},
     "output_type": "execute_result"
    }
   ],
   "source": [
    "df=df[['CustomerID','InvoiceNo','StockCode','Quantity','UnitPrice','Description','InvoiceDate','Country']]\n",
    "df.head()"
   ]
  },
  {
   "cell_type": "markdown",
   "id": "aa24473a",
   "metadata": {},
   "source": [
    "## Data Preprocessing"
   ]
  },
  {
   "cell_type": "code",
   "execution_count": 4,
   "id": "b8ca34be",
   "metadata": {},
   "outputs": [
    {
     "data": {
      "text/plain": [
       "CustomerID     135080\n",
       "InvoiceNo           0\n",
       "StockCode           0\n",
       "Quantity            0\n",
       "UnitPrice           0\n",
       "Description      1454\n",
       "InvoiceDate         0\n",
       "Country             0\n",
       "dtype: int64"
      ]
     },
     "execution_count": 4,
     "metadata": {},
     "output_type": "execute_result"
    }
   ],
   "source": [
    "df.isnull().sum()"
   ]
  },
  {
   "cell_type": "code",
   "execution_count": 5,
   "id": "6985ff0d",
   "metadata": {},
   "outputs": [
    {
     "data": {
      "text/plain": [
       "array(['United Kingdom', 'France', 'Australia', 'Netherlands', 'Germany',\n",
       "       'Norway', 'EIRE', 'Switzerland', 'Spain', 'Poland', 'Portugal',\n",
       "       'Italy', 'Belgium', 'Lithuania', 'Japan', 'Iceland',\n",
       "       'Channel Islands', 'Denmark', 'Cyprus', 'Sweden', 'Austria',\n",
       "       'Israel', 'Finland', 'Bahrain', 'Greece', 'Hong Kong', 'Singapore',\n",
       "       'Lebanon', 'United Arab Emirates', 'Saudi Arabia',\n",
       "       'Czech Republic', 'Canada', 'Unspecified', 'Brazil', 'USA',\n",
       "       'European Community', 'Malta', 'RSA'], dtype=object)"
      ]
     },
     "execution_count": 5,
     "metadata": {},
     "output_type": "execute_result"
    }
   ],
   "source": [
    "df['Country'].unique()"
   ]
  },
  {
   "cell_type": "markdown",
   "id": "886949b2",
   "metadata": {},
   "source": [
    "## 1. Based on your understanding of the data, what kind of business is this company in?\n",
    "\n",
    "Answer - As the name suggest this company is more into online retail across 38 countries like\n",
    "'United Kingdom', 'France', 'Australia', 'Netherlands', 'Germany', 'Norway', 'EIRE', 'Switzerland', 'Spain', 'Poland', 'Portugal', 'Italy', 'Belgium', 'Lithuania', 'Japan', 'Iceland', 'Channel Islands', 'Denmark', 'Cyprus', 'Sweden', 'Austria', 'Israel', 'Finland', 'Bahrain', 'Greece', 'Hong Kong', 'Singapore', 'Lebanon', 'United Arab Emirates', 'Saudi Arabia', 'Czech Republic', 'Canada', 'Unspecified', 'Brazil', 'USA', 'European Community', 'Malta', 'RSA'"
   ]
  },
  {
   "cell_type": "markdown",
   "id": "c1adf108",
   "metadata": {},
   "source": [
    "## 2. Analyze the sales performance of this company, and provide your insights regarding the same"
   ]
  },
  {
   "cell_type": "code",
   "execution_count": 6,
   "id": "d74e7d18",
   "metadata": {},
   "outputs": [],
   "source": [
    "TotalAmount = df['Quantity'] * df['UnitPrice']\n",
    "df.insert(loc=5,column='TotalAmount',value=TotalAmount)"
   ]
  },
  {
   "cell_type": "code",
   "execution_count": 7,
   "id": "80edd420",
   "metadata": {},
   "outputs": [
    {
     "data": {
      "text/html": [
       "<div>\n",
       "<style scoped>\n",
       "    .dataframe tbody tr th:only-of-type {\n",
       "        vertical-align: middle;\n",
       "    }\n",
       "\n",
       "    .dataframe tbody tr th {\n",
       "        vertical-align: top;\n",
       "    }\n",
       "\n",
       "    .dataframe thead th {\n",
       "        text-align: right;\n",
       "    }\n",
       "</style>\n",
       "<table border=\"1\" class=\"dataframe\">\n",
       "  <thead>\n",
       "    <tr style=\"text-align: right;\">\n",
       "      <th></th>\n",
       "      <th>CustomerID</th>\n",
       "      <th>InvoiceNo</th>\n",
       "      <th>StockCode</th>\n",
       "      <th>Quantity</th>\n",
       "      <th>UnitPrice</th>\n",
       "      <th>TotalAmount</th>\n",
       "      <th>Description</th>\n",
       "      <th>InvoiceDate</th>\n",
       "      <th>Country</th>\n",
       "    </tr>\n",
       "  </thead>\n",
       "  <tbody>\n",
       "    <tr>\n",
       "      <th>0</th>\n",
       "      <td>17850.0</td>\n",
       "      <td>536365</td>\n",
       "      <td>85123A</td>\n",
       "      <td>6</td>\n",
       "      <td>2.55</td>\n",
       "      <td>15.30</td>\n",
       "      <td>WHITE HANGING HEART T-LIGHT HOLDER</td>\n",
       "      <td>01-12-2010 08:26</td>\n",
       "      <td>United Kingdom</td>\n",
       "    </tr>\n",
       "    <tr>\n",
       "      <th>1</th>\n",
       "      <td>17850.0</td>\n",
       "      <td>536365</td>\n",
       "      <td>71053</td>\n",
       "      <td>6</td>\n",
       "      <td>3.39</td>\n",
       "      <td>20.34</td>\n",
       "      <td>WHITE METAL LANTERN</td>\n",
       "      <td>01-12-2010 08:26</td>\n",
       "      <td>United Kingdom</td>\n",
       "    </tr>\n",
       "    <tr>\n",
       "      <th>2</th>\n",
       "      <td>17850.0</td>\n",
       "      <td>536365</td>\n",
       "      <td>84406B</td>\n",
       "      <td>8</td>\n",
       "      <td>2.75</td>\n",
       "      <td>22.00</td>\n",
       "      <td>CREAM CUPID HEARTS COAT HANGER</td>\n",
       "      <td>01-12-2010 08:26</td>\n",
       "      <td>United Kingdom</td>\n",
       "    </tr>\n",
       "    <tr>\n",
       "      <th>3</th>\n",
       "      <td>17850.0</td>\n",
       "      <td>536365</td>\n",
       "      <td>84029G</td>\n",
       "      <td>6</td>\n",
       "      <td>3.39</td>\n",
       "      <td>20.34</td>\n",
       "      <td>KNITTED UNION FLAG HOT WATER BOTTLE</td>\n",
       "      <td>01-12-2010 08:26</td>\n",
       "      <td>United Kingdom</td>\n",
       "    </tr>\n",
       "    <tr>\n",
       "      <th>4</th>\n",
       "      <td>17850.0</td>\n",
       "      <td>536365</td>\n",
       "      <td>84029E</td>\n",
       "      <td>6</td>\n",
       "      <td>3.39</td>\n",
       "      <td>20.34</td>\n",
       "      <td>RED WOOLLY HOTTIE WHITE HEART.</td>\n",
       "      <td>01-12-2010 08:26</td>\n",
       "      <td>United Kingdom</td>\n",
       "    </tr>\n",
       "  </tbody>\n",
       "</table>\n",
       "</div>"
      ],
      "text/plain": [
       "   CustomerID InvoiceNo StockCode  Quantity  UnitPrice  TotalAmount  \\\n",
       "0     17850.0    536365    85123A         6       2.55        15.30   \n",
       "1     17850.0    536365     71053         6       3.39        20.34   \n",
       "2     17850.0    536365    84406B         8       2.75        22.00   \n",
       "3     17850.0    536365    84029G         6       3.39        20.34   \n",
       "4     17850.0    536365    84029E         6       3.39        20.34   \n",
       "\n",
       "                           Description       InvoiceDate         Country  \n",
       "0   WHITE HANGING HEART T-LIGHT HOLDER  01-12-2010 08:26  United Kingdom  \n",
       "1                  WHITE METAL LANTERN  01-12-2010 08:26  United Kingdom  \n",
       "2       CREAM CUPID HEARTS COAT HANGER  01-12-2010 08:26  United Kingdom  \n",
       "3  KNITTED UNION FLAG HOT WATER BOTTLE  01-12-2010 08:26  United Kingdom  \n",
       "4       RED WOOLLY HOTTIE WHITE HEART.  01-12-2010 08:26  United Kingdom  "
      ]
     },
     "execution_count": 7,
     "metadata": {},
     "output_type": "execute_result"
    }
   ],
   "source": [
    "new_df = df[['CustomerID','InvoiceNo','StockCode','Quantity','TotalAmount','InvoiceDate','Country']]\n",
    "new_df2 = df.copy()\n",
    "new_df2.head()"
   ]
  },
  {
   "cell_type": "markdown",
   "id": "e986e617",
   "metadata": {},
   "source": [
    "## Exploratory Data Analysis(EDA)"
   ]
  },
  {
   "cell_type": "code",
   "execution_count": 8,
   "id": "f5b1a17e",
   "metadata": {},
   "outputs": [
    {
     "data": {
      "text/plain": [
       "Country\n",
       "United Kingdom          4263829\n",
       "Netherlands              200128\n",
       "EIRE                     142637\n",
       "Germany                  117448\n",
       "France                   110480\n",
       "Australia                 83653\n",
       "Sweden                    35637\n",
       "Switzerland               30325\n",
       "Spain                     26824\n",
       "Japan                     25218\n",
       "Belgium                   23152\n",
       "Norway                    19247\n",
       "Portugal                  16180\n",
       "Finland                   10666\n",
       "Channel Islands            9479\n",
       "Denmark                    8188\n",
       "Italy                      7999\n",
       "Cyprus                     6317\n",
       "Singapore                  5234\n",
       "Austria                    4827\n",
       "Hong Kong                  4769\n",
       "Israel                     4353\n",
       "Poland                     3653\n",
       "Unspecified                3300\n",
       "Canada                     2763\n",
       "Iceland                    2458\n",
       "Greece                     1556\n",
       "USA                        1034\n",
       "United Arab Emirates        982\n",
       "Malta                       944\n",
       "Lithuania                   652\n",
       "Czech Republic              592\n",
       "European Community          497\n",
       "Lebanon                     386\n",
       "Brazil                      356\n",
       "RSA                         352\n",
       "Bahrain                     260\n",
       "Saudi Arabia                 75\n",
       "Name: Quantity, dtype: int64"
      ]
     },
     "execution_count": 8,
     "metadata": {},
     "output_type": "execute_result"
    }
   ],
   "source": [
    "# Grouping countries by TotalAmount of sales\n",
    "\n",
    "country_price = new_df.groupby('Country')['Quantity'].sum().sort_values(ascending = False)\n",
    "country_price"
   ]
  },
  {
   "cell_type": "code",
   "execution_count": 9,
   "id": "61b98b36",
   "metadata": {},
   "outputs": [
    {
     "data": {
      "text/plain": [
       "<AxesSubplot:xlabel='Country'>"
      ]
     },
     "execution_count": 9,
     "metadata": {},
     "output_type": "execute_result"
    },
    {
     "data": {
      "image/png": "[encoded data removed]",
      "text/plain": [
       "<Figure size 432x288 with 1 Axes>"
      ]
     },
     "metadata": {
      "needs_background": "light"
     },
     "output_type": "display_data"
    }
   ],
   "source": [
    "# Top 5 Companies with high number of purchase\n",
    "country_price[:5].plot(kind = 'bar')"
   ]
  },
  {
   "cell_type": "code",
   "execution_count": 10,
   "id": "9edab234",
   "metadata": {},
   "outputs": [
    {
     "data": {
      "text/plain": [
       "<AxesSubplot:xlabel='Country'>"
      ]
     },
     "execution_count": 10,
     "metadata": {},
     "output_type": "execute_result"
    },
    {
     "data": {
      "image/png": "[encoded data removed]",
      "text/plain": [
       "<Figure size 432x288 with 1 Axes>"
      ]
     },
     "metadata": {
      "needs_background": "light"
     },
     "output_type": "display_data"
    }
   ],
   "source": [
    "# 5 Compaies with least number of purchase\n",
    "country_price[33:].plot(kind = 'bar')"
   ]
  },
  {
   "cell_type": "code",
   "execution_count": 12,
   "id": "83ccce24",
   "metadata": {},
   "outputs": [],
   "source": [
    "df['InvoiceDate'] = pd.to_datetime(df.InvoiceDate, format='%d-%m-%Y %H:%M')"
   ]
  },
  {
   "cell_type": "code",
   "execution_count": 13,
   "id": "23fe4d07",
   "metadata": {},
   "outputs": [
    {
     "name": "stderr",
     "output_type": "stream",
     "text": [
      "/usr/local/lib/python3.6/site-packages/ipykernel_launcher.py:5: SettingWithCopyWarning: \n",
      "A value is trying to be set on a copy of a slice from a DataFrame.\n",
      "Try using .loc[row_indexer,col_indexer] = value instead\n",
      "\n",
      "See the caveats in the documentation: https://pandas.pydata.org/pandas-docs/stable/user_guide/indexing.html#returning-a-view-versus-a-copy\n",
      "  \"\"\"\n"
     ]
    },
    {
     "data": {
      "text/html": [
       "<div>\n",
       "<style scoped>\n",
       "    .dataframe tbody tr th:only-of-type {\n",
       "        vertical-align: middle;\n",
       "    }\n",
       "\n",
       "    .dataframe tbody tr th {\n",
       "        vertical-align: top;\n",
       "    }\n",
       "\n",
       "    .dataframe thead th {\n",
       "        text-align: right;\n",
       "    }\n",
       "</style>\n",
       "<table border=\"1\" class=\"dataframe\">\n",
       "  <thead>\n",
       "    <tr style=\"text-align: right;\">\n",
       "      <th></th>\n",
       "      <th>CustomerID</th>\n",
       "      <th>InvoiceNo</th>\n",
       "      <th>StockCode</th>\n",
       "      <th>Quantity</th>\n",
       "      <th>TotalAmount</th>\n",
       "      <th>InvoiceDate</th>\n",
       "      <th>Country</th>\n",
       "      <th>Year</th>\n",
       "    </tr>\n",
       "  </thead>\n",
       "  <tbody>\n",
       "    <tr>\n",
       "      <th>0</th>\n",
       "      <td>17850.0</td>\n",
       "      <td>536365</td>\n",
       "      <td>85123A</td>\n",
       "      <td>6</td>\n",
       "      <td>15.30</td>\n",
       "      <td>01-12-2010 08:26</td>\n",
       "      <td>United Kingdom</td>\n",
       "      <td>2010</td>\n",
       "    </tr>\n",
       "    <tr>\n",
       "      <th>1</th>\n",
       "      <td>17850.0</td>\n",
       "      <td>536365</td>\n",
       "      <td>71053</td>\n",
       "      <td>6</td>\n",
       "      <td>20.34</td>\n",
       "      <td>01-12-2010 08:26</td>\n",
       "      <td>United Kingdom</td>\n",
       "      <td>2010</td>\n",
       "    </tr>\n",
       "    <tr>\n",
       "      <th>2</th>\n",
       "      <td>17850.0</td>\n",
       "      <td>536365</td>\n",
       "      <td>84406B</td>\n",
       "      <td>8</td>\n",
       "      <td>22.00</td>\n",
       "      <td>01-12-2010 08:26</td>\n",
       "      <td>United Kingdom</td>\n",
       "      <td>2010</td>\n",
       "    </tr>\n",
       "    <tr>\n",
       "      <th>3</th>\n",
       "      <td>17850.0</td>\n",
       "      <td>536365</td>\n",
       "      <td>84029G</td>\n",
       "      <td>6</td>\n",
       "      <td>20.34</td>\n",
       "      <td>01-12-2010 08:26</td>\n",
       "      <td>United Kingdom</td>\n",
       "      <td>2010</td>\n",
       "    </tr>\n",
       "    <tr>\n",
       "      <th>4</th>\n",
       "      <td>17850.0</td>\n",
       "      <td>536365</td>\n",
       "      <td>84029E</td>\n",
       "      <td>6</td>\n",
       "      <td>20.34</td>\n",
       "      <td>01-12-2010 08:26</td>\n",
       "      <td>United Kingdom</td>\n",
       "      <td>2010</td>\n",
       "    </tr>\n",
       "  </tbody>\n",
       "</table>\n",
       "</div>"
      ],
      "text/plain": [
       "   CustomerID InvoiceNo StockCode  Quantity  TotalAmount       InvoiceDate  \\\n",
       "0     17850.0    536365    85123A         6        15.30  01-12-2010 08:26   \n",
       "1     17850.0    536365     71053         6        20.34  01-12-2010 08:26   \n",
       "2     17850.0    536365    84406B         8        22.00  01-12-2010 08:26   \n",
       "3     17850.0    536365    84029G         6        20.34  01-12-2010 08:26   \n",
       "4     17850.0    536365    84029E         6        20.34  01-12-2010 08:26   \n",
       "\n",
       "          Country  Year  \n",
       "0  United Kingdom  2010  \n",
       "1  United Kingdom  2010  \n",
       "2  United Kingdom  2010  \n",
       "3  United Kingdom  2010  \n",
       "4  United Kingdom  2010  "
      ]
     },
     "execution_count": 13,
     "metadata": {},
     "output_type": "execute_result"
    }
   ],
   "source": [
    "# Adding year feature to the dataset \n",
    "\n",
    "timest = df['InvoiceDate'].dt.year\n",
    "\n",
    "new_df['Year'] = timest\n",
    "\n",
    "new_df.head()"
   ]
  },
  {
   "cell_type": "code",
   "execution_count": 14,
   "id": "567f18df",
   "metadata": {},
   "outputs": [
    {
     "data": {
      "text/plain": [
       "<AxesSubplot:xlabel='Year'>"
      ]
     },
     "execution_count": 14,
     "metadata": {},
     "output_type": "execute_result"
    },
    {
     "data": {
      "image/png": "[encoded data removed]",
      "text/plain": [
       "<Figure size 432x288 with 1 Axes>"
      ]
     },
     "metadata": {
      "needs_background": "light"
     },
     "output_type": "display_data"
    }
   ],
   "source": [
    "# Total sales for different years\n",
    "\n",
    "new_df.groupby('Year')['TotalAmount'].sum().plot(kind = 'bar')"
   ]
  },
  {
   "cell_type": "code",
   "execution_count": 15,
   "id": "398c8a16",
   "metadata": {},
   "outputs": [
    {
     "name": "stderr",
     "output_type": "stream",
     "text": [
      "/usr/local/lib/python3.6/site-packages/ipykernel_launcher.py:1: SettingWithCopyWarning: \n",
      "A value is trying to be set on a copy of a slice from a DataFrame.\n",
      "Try using .loc[row_indexer,col_indexer] = value instead\n",
      "\n",
      "See the caveats in the documentation: https://pandas.pydata.org/pandas-docs/stable/user_guide/indexing.html#returning-a-view-versus-a-copy\n",
      "  \"\"\"Entry point for launching an IPython kernel.\n"
     ]
    }
   ],
   "source": [
    "new_df['InvoiceDate'] = pd.to_datetime(new_df.InvoiceDate, format='%d-%m-%Y %H:%M')"
   ]
  },
  {
   "cell_type": "code",
   "execution_count": 16,
   "id": "fb2237ad",
   "metadata": {},
   "outputs": [
    {
     "data": {
      "text/plain": [
       "<AxesSubplot:title={'center':'Sales month wise'}, xlabel='Mon,Year'>"
      ]
     },
     "execution_count": 16,
     "metadata": {},
     "output_type": "execute_result"
    },
    {
     "data": {
      "image/png": "[encoded data removed]",
      "text/plain": [
       "<Figure size 432x288 with 1 Axes>"
      ]
     },
     "metadata": {
      "needs_background": "light"
     },
     "output_type": "display_data"
    }
   ],
   "source": [
    "# Sales for different months\n",
    "\n",
    "new_df['Mon'] = new_df['InvoiceDate'].dt.month\n",
    "new_df['month'] = new_df['InvoiceDate'].dt.month_name() \n",
    "new_df.groupby(['Mon','Year'])['TotalAmount'].sum().plot(kind = 'bar', title = 'Sales month wise')"
   ]
  },
  {
   "cell_type": "code",
   "execution_count": 17,
   "id": "515492d8",
   "metadata": {},
   "outputs": [
    {
     "name": "stderr",
     "output_type": "stream",
     "text": [
      "/usr/local/lib/python3.6/site-packages/ipykernel_launcher.py:3: UserWarning: Boolean Series key will be reindexed to match DataFrame index.\n",
      "  This is separate from the ipykernel package so we can avoid doing imports until\n"
     ]
    },
    {
     "data": {
      "text/plain": [
       "array([datetime.date(2011, 12, 1), datetime.date(2011, 12, 2),\n",
       "       datetime.date(2011, 12, 4), datetime.date(2011, 12, 5),\n",
       "       datetime.date(2011, 12, 6), datetime.date(2011, 12, 7),\n",
       "       datetime.date(2011, 12, 8), datetime.date(2011, 12, 9)],\n",
       "      dtype=object)"
      ]
     },
     "execution_count": 17,
     "metadata": {},
     "output_type": "execute_result"
    }
   ],
   "source": [
    "# Checking why dec 2011 has a drop comparing to nov 2011\n",
    "get_2011 = new_df[(new_df['Year'] == 2011)]\n",
    "get_dec2011 = get_2011[(new_df['month'] == 'December')]\n",
    "get_dec2011 = get_dec2011['InvoiceDate'].dt.date.unique()\n",
    "get_dec2011"
   ]
  },
  {
   "cell_type": "markdown",
   "id": "55f35312",
   "metadata": {},
   "source": [
    "# Answer :\n",
    "\n",
    "## Performance Analysis\n",
    "\n",
    "Sales Performance can be seen with\n",
    "\n",
    "Number of sales every month\n",
    "Number of sales every year\n",
    "\n",
    "We see that in 2010 we have sales only for dec and in 2011 we have sales for all months\n",
    "\n",
    "We can see that from September to Novembor we have very good sales\n",
    "We could see that DEC 2010 we have sales of 748957 and in DEC 2011 we have sales of 433668 which is a huge drop when analyzed further found out that We have only data upto 9th on dec 2011, so we find a sales drop in the month of dec 2011"
   ]
  },
  {
   "cell_type": "markdown",
   "id": "e81c41a1",
   "metadata": {},
   "source": [
    "## 3. Based on your analysis of the data, what are potential areas of improvement for the business?"
   ]
  },
  {
   "cell_type": "code",
   "execution_count": 18,
   "id": "70976c7f",
   "metadata": {},
   "outputs": [
    {
     "data": {
      "text/html": [
       "<div>\n",
       "<style scoped>\n",
       "    .dataframe tbody tr th:only-of-type {\n",
       "        vertical-align: middle;\n",
       "    }\n",
       "\n",
       "    .dataframe tbody tr th {\n",
       "        vertical-align: top;\n",
       "    }\n",
       "\n",
       "    .dataframe thead th {\n",
       "        text-align: right;\n",
       "    }\n",
       "</style>\n",
       "<table border=\"1\" class=\"dataframe\">\n",
       "  <thead>\n",
       "    <tr style=\"text-align: right;\">\n",
       "      <th></th>\n",
       "      <th>CustomerID</th>\n",
       "      <th>InvoiceNo</th>\n",
       "      <th>StockCode</th>\n",
       "      <th>Quantity</th>\n",
       "      <th>TotalAmount</th>\n",
       "      <th>InvoiceDate</th>\n",
       "      <th>Country</th>\n",
       "      <th>Year</th>\n",
       "      <th>Mon</th>\n",
       "      <th>month</th>\n",
       "    </tr>\n",
       "  </thead>\n",
       "  <tbody>\n",
       "    <tr>\n",
       "      <th>0</th>\n",
       "      <td>17850.0</td>\n",
       "      <td>536365</td>\n",
       "      <td>85123A</td>\n",
       "      <td>6</td>\n",
       "      <td>15.30</td>\n",
       "      <td>2010-12-01 08:26:00</td>\n",
       "      <td>United Kingdom</td>\n",
       "      <td>2010</td>\n",
       "      <td>12</td>\n",
       "      <td>December</td>\n",
       "    </tr>\n",
       "    <tr>\n",
       "      <th>1</th>\n",
       "      <td>17850.0</td>\n",
       "      <td>536365</td>\n",
       "      <td>71053</td>\n",
       "      <td>6</td>\n",
       "      <td>20.34</td>\n",
       "      <td>2010-12-01 08:26:00</td>\n",
       "      <td>United Kingdom</td>\n",
       "      <td>2010</td>\n",
       "      <td>12</td>\n",
       "      <td>December</td>\n",
       "    </tr>\n",
       "    <tr>\n",
       "      <th>2</th>\n",
       "      <td>17850.0</td>\n",
       "      <td>536365</td>\n",
       "      <td>84406B</td>\n",
       "      <td>8</td>\n",
       "      <td>22.00</td>\n",
       "      <td>2010-12-01 08:26:00</td>\n",
       "      <td>United Kingdom</td>\n",
       "      <td>2010</td>\n",
       "      <td>12</td>\n",
       "      <td>December</td>\n",
       "    </tr>\n",
       "    <tr>\n",
       "      <th>3</th>\n",
       "      <td>17850.0</td>\n",
       "      <td>536365</td>\n",
       "      <td>84029G</td>\n",
       "      <td>6</td>\n",
       "      <td>20.34</td>\n",
       "      <td>2010-12-01 08:26:00</td>\n",
       "      <td>United Kingdom</td>\n",
       "      <td>2010</td>\n",
       "      <td>12</td>\n",
       "      <td>December</td>\n",
       "    </tr>\n",
       "    <tr>\n",
       "      <th>4</th>\n",
       "      <td>17850.0</td>\n",
       "      <td>536365</td>\n",
       "      <td>84029E</td>\n",
       "      <td>6</td>\n",
       "      <td>20.34</td>\n",
       "      <td>2010-12-01 08:26:00</td>\n",
       "      <td>United Kingdom</td>\n",
       "      <td>2010</td>\n",
       "      <td>12</td>\n",
       "      <td>December</td>\n",
       "    </tr>\n",
       "  </tbody>\n",
       "</table>\n",
       "</div>"
      ],
      "text/plain": [
       "   CustomerID InvoiceNo StockCode  Quantity  TotalAmount         InvoiceDate  \\\n",
       "0     17850.0    536365    85123A         6        15.30 2010-12-01 08:26:00   \n",
       "1     17850.0    536365     71053         6        20.34 2010-12-01 08:26:00   \n",
       "2     17850.0    536365    84406B         8        22.00 2010-12-01 08:26:00   \n",
       "3     17850.0    536365    84029G         6        20.34 2010-12-01 08:26:00   \n",
       "4     17850.0    536365    84029E         6        20.34 2010-12-01 08:26:00   \n",
       "\n",
       "          Country  Year  Mon     month  \n",
       "0  United Kingdom  2010   12  December  \n",
       "1  United Kingdom  2010   12  December  \n",
       "2  United Kingdom  2010   12  December  \n",
       "3  United Kingdom  2010   12  December  \n",
       "4  United Kingdom  2010   12  December  "
      ]
     },
     "execution_count": 18,
     "metadata": {},
     "output_type": "execute_result"
    }
   ],
   "source": [
    "new_df.head()"
   ]
  },
  {
   "cell_type": "code",
   "execution_count": 19,
   "id": "7a20945f",
   "metadata": {},
   "outputs": [
    {
     "data": {
      "text/plain": [
       "CustomerID     0\n",
       "InvoiceNo      0\n",
       "StockCode      0\n",
       "Quantity       0\n",
       "TotalAmount    0\n",
       "InvoiceDate    0\n",
       "Country        0\n",
       "Year           0\n",
       "Mon            0\n",
       "month          0\n",
       "dtype: int64"
      ]
     },
     "execution_count": 19,
     "metadata": {},
     "output_type": "execute_result"
    }
   ],
   "source": [
    "new_df = new_df.dropna()\n",
    "new_df.isnull().sum()"
   ]
  },
  {
   "cell_type": "code",
   "execution_count": 20,
   "id": "b4f7792c",
   "metadata": {},
   "outputs": [
    {
     "data": {
      "text/plain": [
       "<AxesSubplot:title={'center':'Most Customers for country'}, xlabel='Country'>"
      ]
     },
     "execution_count": 20,
     "metadata": {},
     "output_type": "execute_result"
    },
    {
     "data": {
      "image/png": "[encoded data removed]",
      "text/plain": [
       "<Figure size 432x288 with 1 Axes>"
      ]
     },
     "metadata": {
      "needs_background": "light"
     },
     "output_type": "display_data"
    }
   ],
   "source": [
    "#Countries with more number of customers\n",
    "cus_id = pd.DataFrame(new_df.groupby('Country')['CustomerID'].count().sort_values(ascending = False))\n",
    "cus_id[:5].plot(kind = 'bar', title = 'Most Customers for country')"
   ]
  },
  {
   "cell_type": "code",
   "execution_count": 21,
   "id": "d7a1ac08",
   "metadata": {},
   "outputs": [
    {
     "data": {
      "text/plain": [
       "<AxesSubplot:title={'center':'Least customers for country'}, xlabel='Country'>"
      ]
     },
     "execution_count": 21,
     "metadata": {},
     "output_type": "execute_result"
    },
    {
     "data": {
      "image/png": "[encoded data removed]",
      "text/plain": [
       "<Figure size 432x288 with 1 Axes>"
      ]
     },
     "metadata": {
      "needs_background": "light"
     },
     "output_type": "display_data"
    }
   ],
   "source": [
    "# Countries with less number of customers\n",
    "cus_id[-5:].plot(kind = 'bar', title = 'Least customers for country')"
   ]
  },
  {
   "cell_type": "markdown",
   "id": "83796901",
   "metadata": {},
   "source": [
    "## Answer-\n",
    "\n",
    "We see that september to december we have very high sales\n",
    "We can concentrate on improving the sales for the other 8 months\n",
    "We find very less number of customers in Lithania, Brazil, Czech Republic, Bahrain, Saudi Arabia\n",
    "We have very less sales for Lebanon, Brazil, RSA, Bahrain, Saudi Arabia. We can concentrate on improving their sales\n",
    "We could improve the business by increasing the customers and sales point of view"
   ]
  },
  {
   "cell_type": "markdown",
   "id": "0627e5ff",
   "metadata": {},
   "source": [
    "## 4. What are additional business problems that can be analyzed using this data. Support with explanation."
   ]
  },
  {
   "cell_type": "code",
   "execution_count": 22,
   "id": "6cdb8aab",
   "metadata": {},
   "outputs": [
    {
     "data": {
      "text/html": [
       "<div>\n",
       "<style scoped>\n",
       "    .dataframe tbody tr th:only-of-type {\n",
       "        vertical-align: middle;\n",
       "    }\n",
       "\n",
       "    .dataframe tbody tr th {\n",
       "        vertical-align: top;\n",
       "    }\n",
       "\n",
       "    .dataframe thead th {\n",
       "        text-align: right;\n",
       "    }\n",
       "</style>\n",
       "<table border=\"1\" class=\"dataframe\">\n",
       "  <thead>\n",
       "    <tr style=\"text-align: right;\">\n",
       "      <th></th>\n",
       "      <th>CustomerID</th>\n",
       "      <th>InvoiceNo</th>\n",
       "      <th>StockCode</th>\n",
       "      <th>Quantity</th>\n",
       "      <th>UnitPrice</th>\n",
       "      <th>TotalAmount</th>\n",
       "      <th>Description</th>\n",
       "      <th>InvoiceDate</th>\n",
       "      <th>Country</th>\n",
       "    </tr>\n",
       "  </thead>\n",
       "  <tbody>\n",
       "    <tr>\n",
       "      <th>0</th>\n",
       "      <td>17850.0</td>\n",
       "      <td>536365</td>\n",
       "      <td>85123A</td>\n",
       "      <td>6</td>\n",
       "      <td>2.55</td>\n",
       "      <td>15.30</td>\n",
       "      <td>WHITE HANGING HEART T-LIGHT HOLDER</td>\n",
       "      <td>01-12-2010 08:26</td>\n",
       "      <td>United Kingdom</td>\n",
       "    </tr>\n",
       "    <tr>\n",
       "      <th>1</th>\n",
       "      <td>17850.0</td>\n",
       "      <td>536365</td>\n",
       "      <td>71053</td>\n",
       "      <td>6</td>\n",
       "      <td>3.39</td>\n",
       "      <td>20.34</td>\n",
       "      <td>WHITE METAL LANTERN</td>\n",
       "      <td>01-12-2010 08:26</td>\n",
       "      <td>United Kingdom</td>\n",
       "    </tr>\n",
       "    <tr>\n",
       "      <th>2</th>\n",
       "      <td>17850.0</td>\n",
       "      <td>536365</td>\n",
       "      <td>84406B</td>\n",
       "      <td>8</td>\n",
       "      <td>2.75</td>\n",
       "      <td>22.00</td>\n",
       "      <td>CREAM CUPID HEARTS COAT HANGER</td>\n",
       "      <td>01-12-2010 08:26</td>\n",
       "      <td>United Kingdom</td>\n",
       "    </tr>\n",
       "    <tr>\n",
       "      <th>3</th>\n",
       "      <td>17850.0</td>\n",
       "      <td>536365</td>\n",
       "      <td>84029G</td>\n",
       "      <td>6</td>\n",
       "      <td>3.39</td>\n",
       "      <td>20.34</td>\n",
       "      <td>KNITTED UNION FLAG HOT WATER BOTTLE</td>\n",
       "      <td>01-12-2010 08:26</td>\n",
       "      <td>United Kingdom</td>\n",
       "    </tr>\n",
       "    <tr>\n",
       "      <th>4</th>\n",
       "      <td>17850.0</td>\n",
       "      <td>536365</td>\n",
       "      <td>84029E</td>\n",
       "      <td>6</td>\n",
       "      <td>3.39</td>\n",
       "      <td>20.34</td>\n",
       "      <td>RED WOOLLY HOTTIE WHITE HEART.</td>\n",
       "      <td>01-12-2010 08:26</td>\n",
       "      <td>United Kingdom</td>\n",
       "    </tr>\n",
       "  </tbody>\n",
       "</table>\n",
       "</div>"
      ],
      "text/plain": [
       "   CustomerID InvoiceNo StockCode  Quantity  UnitPrice  TotalAmount  \\\n",
       "0     17850.0    536365    85123A         6       2.55        15.30   \n",
       "1     17850.0    536365     71053         6       3.39        20.34   \n",
       "2     17850.0    536365    84406B         8       2.75        22.00   \n",
       "3     17850.0    536365    84029G         6       3.39        20.34   \n",
       "4     17850.0    536365    84029E         6       3.39        20.34   \n",
       "\n",
       "                           Description       InvoiceDate         Country  \n",
       "0   WHITE HANGING HEART T-LIGHT HOLDER  01-12-2010 08:26  United Kingdom  \n",
       "1                  WHITE METAL LANTERN  01-12-2010 08:26  United Kingdom  \n",
       "2       CREAM CUPID HEARTS COAT HANGER  01-12-2010 08:26  United Kingdom  \n",
       "3  KNITTED UNION FLAG HOT WATER BOTTLE  01-12-2010 08:26  United Kingdom  \n",
       "4       RED WOOLLY HOTTIE WHITE HEART.  01-12-2010 08:26  United Kingdom  "
      ]
     },
     "execution_count": 22,
     "metadata": {},
     "output_type": "execute_result"
    }
   ],
   "source": [
    "# Removing the null values since we are checking the data based on customer and description\n",
    "new_df2 = new_df2.dropna()\n",
    "new_df2.isnull().sum()\n",
    "new_df2.head()"
   ]
  },
  {
   "cell_type": "code",
   "execution_count": 23,
   "id": "12a32044",
   "metadata": {},
   "outputs": [
    {
     "name": "stderr",
     "output_type": "stream",
     "text": [
      "/usr/local/lib/python3.6/site-packages/ipykernel_launcher.py:3: FutureWarning: Indexing with multiple keys (implicitly converted to a tuple of keys) will be deprecated, use a list instead.\n",
      "  This is separate from the ipykernel package so we can avoid doing imports until\n"
     ]
    },
    {
     "data": {
      "text/html": [
       "<div>\n",
       "<style scoped>\n",
       "    .dataframe tbody tr th:only-of-type {\n",
       "        vertical-align: middle;\n",
       "    }\n",
       "\n",
       "    .dataframe tbody tr th {\n",
       "        vertical-align: top;\n",
       "    }\n",
       "\n",
       "    .dataframe thead th {\n",
       "        text-align: right;\n",
       "    }\n",
       "</style>\n",
       "<table border=\"1\" class=\"dataframe\">\n",
       "  <thead>\n",
       "    <tr style=\"text-align: right;\">\n",
       "      <th></th>\n",
       "      <th></th>\n",
       "      <th>Quantity</th>\n",
       "      <th>TotalAmount</th>\n",
       "    </tr>\n",
       "    <tr>\n",
       "      <th>StockCode</th>\n",
       "      <th>Description</th>\n",
       "      <th></th>\n",
       "      <th></th>\n",
       "    </tr>\n",
       "  </thead>\n",
       "  <tbody>\n",
       "    <tr>\n",
       "      <th>47556B</th>\n",
       "      <th>TEA TIME TEA TOWELS</th>\n",
       "      <td>1300.000000</td>\n",
       "      <td>3022.500000</td>\n",
       "    </tr>\n",
       "    <tr>\n",
       "      <th>84568</th>\n",
       "      <th>GIRLS ALPHABET IRON ON PATCHES</th>\n",
       "      <td>520.000000</td>\n",
       "      <td>97.200000</td>\n",
       "    </tr>\n",
       "    <tr>\n",
       "      <th>84826</th>\n",
       "      <th>ASSTD DESIGN 3D PAPER STICKERS</th>\n",
       "      <td>368.702703</td>\n",
       "      <td>9.145405</td>\n",
       "    </tr>\n",
       "    <tr>\n",
       "      <th>18007</th>\n",
       "      <th>ESSENTIAL BALM 3.5g TIN IN ENVELOPE</th>\n",
       "      <td>325.333333</td>\n",
       "      <td>21.320000</td>\n",
       "    </tr>\n",
       "    <tr>\n",
       "      <th>20914</th>\n",
       "      <th>SET/5 RED SPOTTY LID GLASS BOWLS</th>\n",
       "      <td>288.000000</td>\n",
       "      <td>734.400000</td>\n",
       "    </tr>\n",
       "    <tr>\n",
       "      <th>...</th>\n",
       "      <th>...</th>\n",
       "      <td>...</td>\n",
       "      <td>...</td>\n",
       "    </tr>\n",
       "    <tr>\n",
       "      <th>21412</th>\n",
       "      <th>VINTAGE GOLD TINSEL REEL</th>\n",
       "      <td>-6.000000</td>\n",
       "      <td>-2.520000</td>\n",
       "    </tr>\n",
       "    <tr>\n",
       "      <th>79323W</th>\n",
       "      <th>WHITE CHERRY LIGHTS</th>\n",
       "      <td>-8.000000</td>\n",
       "      <td>-54.000000</td>\n",
       "    </tr>\n",
       "    <tr>\n",
       "      <th>21144</th>\n",
       "      <th>PINK POODLE HANGING DECORATION</th>\n",
       "      <td>-12.000000</td>\n",
       "      <td>-4.560000</td>\n",
       "    </tr>\n",
       "    <tr>\n",
       "      <th>D</th>\n",
       "      <th>Discount</th>\n",
       "      <td>-15.506494</td>\n",
       "      <td>-73.976883</td>\n",
       "    </tr>\n",
       "    <tr>\n",
       "      <th>21645</th>\n",
       "      <th>ASSORTED TUTTI FRUTTI ROUND BOX</th>\n",
       "      <td>-24.000000</td>\n",
       "      <td>-39.600000</td>\n",
       "    </tr>\n",
       "  </tbody>\n",
       "</table>\n",
       "<p>3916 rows × 2 columns</p>\n",
       "</div>"
      ],
      "text/plain": [
       "                                                  Quantity  TotalAmount\n",
       "StockCode Description                                                  \n",
       "47556B    TEA TIME TEA TOWELS                  1300.000000  3022.500000\n",
       "84568     GIRLS ALPHABET IRON ON PATCHES        520.000000    97.200000\n",
       "84826     ASSTD DESIGN 3D PAPER STICKERS        368.702703     9.145405\n",
       "18007     ESSENTIAL BALM 3.5g TIN IN ENVELOPE   325.333333    21.320000\n",
       "20914     SET/5 RED SPOTTY LID GLASS BOWLS      288.000000   734.400000\n",
       "...                                                    ...          ...\n",
       "21412     VINTAGE GOLD TINSEL REEL               -6.000000    -2.520000\n",
       "79323W    WHITE CHERRY LIGHTS                    -8.000000   -54.000000\n",
       "21144     PINK POODLE HANGING DECORATION        -12.000000    -4.560000\n",
       "D         Discount                              -15.506494   -73.976883\n",
       "21645     ASSORTED TUTTI FRUTTI ROUND BOX       -24.000000   -39.600000\n",
       "\n",
       "[3916 rows x 2 columns]"
      ]
     },
     "execution_count": 23,
     "metadata": {},
     "output_type": "execute_result"
    }
   ],
   "source": [
    "# Sales Average of each product\n",
    "\n",
    "avg_sales = new_df2.groupby(['StockCode','Description'])['Quantity','TotalAmount'].mean().sort_values(by = 'Quantity',ascending = False)\n",
    "avg_sales"
   ]
  },
  {
   "cell_type": "markdown",
   "id": "a4fe47c3",
   "metadata": {},
   "source": [
    "## Answers -\n",
    "\n",
    "We can see the demand for each product\n",
    "We can further check month wise on which product is on more demand for which month. If there is any seasonality for the product\n",
    "Further deeper analysis can be carried out customer wise"
   ]
  }
 ],
 "metadata": {
  "kernelspec": {
   "display_name": "Python 3",
   "language": "python",
   "name": "python3"
  },
  "language_info": {
   "codemirror_mode": {
    "name": "ipython",
    "version": 3
   },
   "file_extension": ".py",
   "mimetype": "text/x-python",
   "name": "python",
   "nbconvert_exporter": "python",
   "pygments_lexer": "ipython3",
   "version": "3.6.8"
  }
 },
 "nbformat": 4,
 "nbformat_minor": 5
}
